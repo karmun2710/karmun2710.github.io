{
 "cells": [
  {
   "cell_type": "code",
   "execution_count": 31,
   "metadata": {
    "collapsed": false,
    "pycharm": {
     "name": "#%%\n"
    }
   },
   "outputs": [],
   "source": [
    "import pandas as pd\n",
    "import geopandas as gpd\n",
    "import os\n",
    "import matplotlib.pyplot as plt\n",
    "import warnings"
   ]
  },
  {
   "cell_type": "markdown",
   "metadata": {
    "collapsed": false
   },
   "source": [
    "Cleaning CSV Data regarding GE_15 Candidates"
   ]
  },
  {
   "cell_type": "code",
   "execution_count": 20,
   "metadata": {
    "collapsed": false,
    "pycharm": {
     "name": "#%%\n"
    }
   },
   "outputs": [],
   "source": [
    "party_replace = {\n",
    "    'PARTI KEADILAN RAKYAT (PKR)': 'PAKATAN HARAPAN (PH)',\n",
    "    'PARTI TINDAKAN DEMOKRATIK (DAP)': 'PAKATAN HARAPAN (PH)',\n",
    "    'PARTI ISLAM SE MALAYSIA (PAS)': 'PERIKATAN NASIONAL (PN)',\n",
    "    'IKATAN DEMOKRATIK MALAYSIA (MUDA)': 'PAKATAN HARAPAN (PH)'\n",
    "}\n",
    "\n",
    "df = pd.read_csv('data/candidates_ge15.csv',usecols=['state','parlimen','party','result'])\n",
    "df.party = df.party.replace(party_replace).fillna(df.party)\n",
    "df = df[df.result == 1].drop('result',axis=1)\n",
    "n_seats = df[['party']].groupby('party').size()\n",
    "# df = df[~df.state.isin(['Sabah','Sarawak','W.P. Labuan'])] # to add East Msia, comment out this line\n",
    "df.party = df.party.map(party_replace).fillna(df.party)\n",
    "df['party_short'] = df.party.str.extract(r'\\((\\w+)\\)')\n",
    "party_abbr = dict(zip(df.party,df.party_short))\n",
    "df = df.drop('party_short',axis=1)\n",
    "\n",
    "vf = pd.read_csv('data/voters_ge15.csv',usecols=['state','parlimen','total']).rename(columns={'total':'voters'}).groupby(['state','parlimen']).sum().reset_index()\n",
    "\n",
    "df = pd.merge(df,vf,on=['state','parlimen'],how='left')\n",
    "assert len(df[df.voters.isnull()]) == 0, 'Missing data!' # ensure complete merge\n",
    "n_voters = (df[['party','voters']].groupby('party').mean()).to_dict()\n",
    "\n",
    "df = df.sort_values(by='voters',ascending=False).reset_index(drop=True)\n",
    "\n",
    "df.to_csv(\"parlimen.csv\")"
   ]
  }
 ],
 "metadata": {
  "kernelspec": {
   "display_name": "base",
   "language": "python",
   "name": "python3"
  },
  "language_info": {
   "codemirror_mode": {
    "name": "ipython",
    "version": 2
   },
   "file_extension": ".py",
   "mimetype": "text/x-python",
   "name": "python",
   "nbconvert_exporter": "python",
   "pygments_lexer": "ipython2",
   "version": "3.9.7 (default, Sep 16 2021, 16:59:28) [MSC v.1916 64 bit (AMD64)]"
  },
  "vscode": {
   "interpreter": {
    "hash": "2043299c89c8cd0b4d1a6f5cf4529bd58e6a4e0fe3181a25e0d328c821cdc5c5"
   }
  }
 },
 "nbformat": 4,
 "nbformat_minor": 0
}
