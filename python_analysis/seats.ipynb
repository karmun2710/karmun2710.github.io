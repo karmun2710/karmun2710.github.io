{
 "cells": [
  {
   "cell_type": "code",
   "execution_count": 51,
   "metadata": {
    "collapsed": false,
    "pycharm": {
     "name": "#%%\n"
    }
   },
   "outputs": [],
   "source": [
    "import pandas as pd\n",
    "import os\n",
    "import matplotlib.pyplot as plt\n",
    "import warnings"
   ]
  },
  {
   "cell_type": "code",
   "execution_count": 52,
   "outputs": [],
   "source": [
    "census = pd.read_csv(\"census_parlimen.csv\")"
   ],
   "metadata": {
    "collapsed": false,
    "pycharm": {
     "name": "#%%\n"
    }
   }
  },
  {
   "cell_type": "code",
   "execution_count": 53,
   "outputs": [],
   "source": [
    "seats = pd.read_csv(\"seats.csv\")"
   ],
   "metadata": {
    "collapsed": false,
    "pycharm": {
     "name": "#%%\n"
    }
   }
  },
  {
   "cell_type": "code",
   "execution_count": 66,
   "outputs": [
    {
     "data": {
      "text/plain": "    UNIQUE CODE    STATE PARLIAMENTARY CODE PARLIAMENTARY NAME WINNING PARTY  \\\n0         P.001   PERLIS              P.001       PADANG BESAR      PN - PAS   \n1         P.002   PERLIS              P.002             KANGAR     PN - PPBM   \n2         P.003   PERLIS              P.003               ARAU   PN - DIRECT   \n3         P.004    KEDAH              P.004           LANGKAWI     PN - PPBM   \n4         P.005    KEDAH              P.005             JERLUN      PN - PAS   \n..          ...      ...                ...                ...           ...   \n217      P. 218  SARAWAK             P. 218             SIBUTI     GPS - PBB   \n218      P. 219  SARAWAK             P. 219               MIRI      PH - PKR   \n219      P. 220  SARAWAK             P. 220              BARAM     GPS - PDP   \n220      P. 221  SARAWAK             P. 221            LIMBANG     GPS - PBB   \n221      P. 222  SARAWAK             P. 222              LAWAS     GPS - PBB   \n\n     UNCONTESTED VICTORY  TOTAL ELECTORATE  WINNING MAJORITY  TURNOUT (%)  \\\n0                    NaN             60192             12514        76.52   \n1                    NaN             74859              9192        76.13   \n2                    NaN             60876             23216        78.20   \n3                    NaN             66777             13518        72.07   \n4                    NaN             67601             20456        78.27   \n..                   ...               ...               ...          ...   \n217                  NaN             58522             11745        58.73   \n218                  NaN            143229              6159        55.15   \n219                  NaN             59535              7339        50.76   \n220                  NaN             41999              9998        47.93   \n221                  NaN             33655              5677        54.95   \n\n     TOTAL BALLOTS ISSUED  ...  INDEPENDENT (3)  INDEPENDENT (3) CANDIDATE  \\\n0                   46059  ...              NaN                        NaN   \n1                   56989  ...              NaN                        NaN   \n2                   47605  ...              NaN                        NaN   \n3                   48123  ...              NaN                        NaN   \n4                   52909  ...              NaN                        NaN   \n..                    ...  ...              ...                        ...   \n217                 34371  ...              NaN                        NaN   \n218                 78996  ...              NaN                        NaN   \n219                 30218  ...              NaN                        NaN   \n220                 20130  ...              NaN                        NaN   \n221                 18495  ...              NaN                        NaN   \n\n     INDEPENDENT (3) CANDIDATE GENDER INDEPENDENT (3) CANDIDATE AGE  \\\n0                                 NaN                           NaN   \n1                                 NaN                           NaN   \n2                                 NaN                           NaN   \n3                                 NaN                           NaN   \n4                                 NaN                           NaN   \n..                                ...                           ...   \n217                               NaN                           NaN   \n218                               NaN                           NaN   \n219                               NaN                           NaN   \n220                               NaN                           NaN   \n221                               NaN                           NaN   \n\n    INDEPENDENT (3) VOTE INDEPENDENT (4)  INDEPENDENT (4) CANDIDATE  \\\n0                    NaN             NaN                        NaN   \n1                    NaN             NaN                        NaN   \n2                    NaN             NaN                        NaN   \n3                    NaN             NaN                        NaN   \n4                    NaN             NaN                        NaN   \n..                   ...             ...                        ...   \n217                  NaN             NaN                        NaN   \n218                  NaN             NaN                        NaN   \n219                  NaN             NaN                        NaN   \n220                  NaN             NaN                        NaN   \n221                  NaN             NaN                        NaN   \n\n     INDEPENDENT (4) CANDIDATE GENDER INDEPENDENT (4) CANDIDATE AGE  \\\n0                                 NaN                           NaN   \n1                                 NaN                           NaN   \n2                                 NaN                           NaN   \n3                                 NaN                           NaN   \n4                                 NaN                           NaN   \n..                                ...                           ...   \n217                               NaN                           NaN   \n218                               NaN                           NaN   \n219                               NaN                           NaN   \n220                               NaN                           NaN   \n221                               NaN                           NaN   \n\n    INDEPENDENT (4) VOTE  \n0                    NaN  \n1                    NaN  \n2                    NaN  \n3                    NaN  \n4                    NaN  \n..                   ...  \n217                  NaN  \n218                  NaN  \n219                  NaN  \n220                  NaN  \n221                  NaN  \n\n[222 rows x 78 columns]",
      "text/html": "<div>\n<style scoped>\n    .dataframe tbody tr th:only-of-type {\n        vertical-align: middle;\n    }\n\n    .dataframe tbody tr th {\n        vertical-align: top;\n    }\n\n    .dataframe thead th {\n        text-align: right;\n    }\n</style>\n<table border=\"1\" class=\"dataframe\">\n  <thead>\n    <tr style=\"text-align: right;\">\n      <th></th>\n      <th>UNIQUE CODE</th>\n      <th>STATE</th>\n      <th>PARLIAMENTARY CODE</th>\n      <th>PARLIAMENTARY NAME</th>\n      <th>WINNING PARTY</th>\n      <th>UNCONTESTED VICTORY</th>\n      <th>TOTAL ELECTORATE</th>\n      <th>WINNING MAJORITY</th>\n      <th>TURNOUT (%)</th>\n      <th>TOTAL BALLOTS ISSUED</th>\n      <th>...</th>\n      <th>INDEPENDENT (3)</th>\n      <th>INDEPENDENT (3) CANDIDATE</th>\n      <th>INDEPENDENT (3) CANDIDATE GENDER</th>\n      <th>INDEPENDENT (3) CANDIDATE AGE</th>\n      <th>INDEPENDENT (3) VOTE</th>\n      <th>INDEPENDENT (4)</th>\n      <th>INDEPENDENT (4) CANDIDATE</th>\n      <th>INDEPENDENT (4) CANDIDATE GENDER</th>\n      <th>INDEPENDENT (4) CANDIDATE AGE</th>\n      <th>INDEPENDENT (4) VOTE</th>\n    </tr>\n  </thead>\n  <tbody>\n    <tr>\n      <th>0</th>\n      <td>P.001</td>\n      <td>PERLIS</td>\n      <td>P.001</td>\n      <td>PADANG BESAR</td>\n      <td>PN - PAS</td>\n      <td>NaN</td>\n      <td>60192</td>\n      <td>12514</td>\n      <td>76.52</td>\n      <td>46059</td>\n      <td>...</td>\n      <td>NaN</td>\n      <td>NaN</td>\n      <td>NaN</td>\n      <td>NaN</td>\n      <td>NaN</td>\n      <td>NaN</td>\n      <td>NaN</td>\n      <td>NaN</td>\n      <td>NaN</td>\n      <td>NaN</td>\n    </tr>\n    <tr>\n      <th>1</th>\n      <td>P.002</td>\n      <td>PERLIS</td>\n      <td>P.002</td>\n      <td>KANGAR</td>\n      <td>PN - PPBM</td>\n      <td>NaN</td>\n      <td>74859</td>\n      <td>9192</td>\n      <td>76.13</td>\n      <td>56989</td>\n      <td>...</td>\n      <td>NaN</td>\n      <td>NaN</td>\n      <td>NaN</td>\n      <td>NaN</td>\n      <td>NaN</td>\n      <td>NaN</td>\n      <td>NaN</td>\n      <td>NaN</td>\n      <td>NaN</td>\n      <td>NaN</td>\n    </tr>\n    <tr>\n      <th>2</th>\n      <td>P.003</td>\n      <td>PERLIS</td>\n      <td>P.003</td>\n      <td>ARAU</td>\n      <td>PN - DIRECT</td>\n      <td>NaN</td>\n      <td>60876</td>\n      <td>23216</td>\n      <td>78.20</td>\n      <td>47605</td>\n      <td>...</td>\n      <td>NaN</td>\n      <td>NaN</td>\n      <td>NaN</td>\n      <td>NaN</td>\n      <td>NaN</td>\n      <td>NaN</td>\n      <td>NaN</td>\n      <td>NaN</td>\n      <td>NaN</td>\n      <td>NaN</td>\n    </tr>\n    <tr>\n      <th>3</th>\n      <td>P.004</td>\n      <td>KEDAH</td>\n      <td>P.004</td>\n      <td>LANGKAWI</td>\n      <td>PN - PPBM</td>\n      <td>NaN</td>\n      <td>66777</td>\n      <td>13518</td>\n      <td>72.07</td>\n      <td>48123</td>\n      <td>...</td>\n      <td>NaN</td>\n      <td>NaN</td>\n      <td>NaN</td>\n      <td>NaN</td>\n      <td>NaN</td>\n      <td>NaN</td>\n      <td>NaN</td>\n      <td>NaN</td>\n      <td>NaN</td>\n      <td>NaN</td>\n    </tr>\n    <tr>\n      <th>4</th>\n      <td>P.005</td>\n      <td>KEDAH</td>\n      <td>P.005</td>\n      <td>JERLUN</td>\n      <td>PN - PAS</td>\n      <td>NaN</td>\n      <td>67601</td>\n      <td>20456</td>\n      <td>78.27</td>\n      <td>52909</td>\n      <td>...</td>\n      <td>NaN</td>\n      <td>NaN</td>\n      <td>NaN</td>\n      <td>NaN</td>\n      <td>NaN</td>\n      <td>NaN</td>\n      <td>NaN</td>\n      <td>NaN</td>\n      <td>NaN</td>\n      <td>NaN</td>\n    </tr>\n    <tr>\n      <th>...</th>\n      <td>...</td>\n      <td>...</td>\n      <td>...</td>\n      <td>...</td>\n      <td>...</td>\n      <td>...</td>\n      <td>...</td>\n      <td>...</td>\n      <td>...</td>\n      <td>...</td>\n      <td>...</td>\n      <td>...</td>\n      <td>...</td>\n      <td>...</td>\n      <td>...</td>\n      <td>...</td>\n      <td>...</td>\n      <td>...</td>\n      <td>...</td>\n      <td>...</td>\n      <td>...</td>\n    </tr>\n    <tr>\n      <th>217</th>\n      <td>P. 218</td>\n      <td>SARAWAK</td>\n      <td>P. 218</td>\n      <td>SIBUTI</td>\n      <td>GPS - PBB</td>\n      <td>NaN</td>\n      <td>58522</td>\n      <td>11745</td>\n      <td>58.73</td>\n      <td>34371</td>\n      <td>...</td>\n      <td>NaN</td>\n      <td>NaN</td>\n      <td>NaN</td>\n      <td>NaN</td>\n      <td>NaN</td>\n      <td>NaN</td>\n      <td>NaN</td>\n      <td>NaN</td>\n      <td>NaN</td>\n      <td>NaN</td>\n    </tr>\n    <tr>\n      <th>218</th>\n      <td>P. 219</td>\n      <td>SARAWAK</td>\n      <td>P. 219</td>\n      <td>MIRI</td>\n      <td>PH - PKR</td>\n      <td>NaN</td>\n      <td>143229</td>\n      <td>6159</td>\n      <td>55.15</td>\n      <td>78996</td>\n      <td>...</td>\n      <td>NaN</td>\n      <td>NaN</td>\n      <td>NaN</td>\n      <td>NaN</td>\n      <td>NaN</td>\n      <td>NaN</td>\n      <td>NaN</td>\n      <td>NaN</td>\n      <td>NaN</td>\n      <td>NaN</td>\n    </tr>\n    <tr>\n      <th>219</th>\n      <td>P. 220</td>\n      <td>SARAWAK</td>\n      <td>P. 220</td>\n      <td>BARAM</td>\n      <td>GPS - PDP</td>\n      <td>NaN</td>\n      <td>59535</td>\n      <td>7339</td>\n      <td>50.76</td>\n      <td>30218</td>\n      <td>...</td>\n      <td>NaN</td>\n      <td>NaN</td>\n      <td>NaN</td>\n      <td>NaN</td>\n      <td>NaN</td>\n      <td>NaN</td>\n      <td>NaN</td>\n      <td>NaN</td>\n      <td>NaN</td>\n      <td>NaN</td>\n    </tr>\n    <tr>\n      <th>220</th>\n      <td>P. 221</td>\n      <td>SARAWAK</td>\n      <td>P. 221</td>\n      <td>LIMBANG</td>\n      <td>GPS - PBB</td>\n      <td>NaN</td>\n      <td>41999</td>\n      <td>9998</td>\n      <td>47.93</td>\n      <td>20130</td>\n      <td>...</td>\n      <td>NaN</td>\n      <td>NaN</td>\n      <td>NaN</td>\n      <td>NaN</td>\n      <td>NaN</td>\n      <td>NaN</td>\n      <td>NaN</td>\n      <td>NaN</td>\n      <td>NaN</td>\n      <td>NaN</td>\n    </tr>\n    <tr>\n      <th>221</th>\n      <td>P. 222</td>\n      <td>SARAWAK</td>\n      <td>P. 222</td>\n      <td>LAWAS</td>\n      <td>GPS - PBB</td>\n      <td>NaN</td>\n      <td>33655</td>\n      <td>5677</td>\n      <td>54.95</td>\n      <td>18495</td>\n      <td>...</td>\n      <td>NaN</td>\n      <td>NaN</td>\n      <td>NaN</td>\n      <td>NaN</td>\n      <td>NaN</td>\n      <td>NaN</td>\n      <td>NaN</td>\n      <td>NaN</td>\n      <td>NaN</td>\n      <td>NaN</td>\n    </tr>\n  </tbody>\n</table>\n<p>222 rows × 78 columns</p>\n</div>"
     },
     "execution_count": 66,
     "metadata": {},
     "output_type": "execute_result"
    }
   ],
   "source": [
    "seats"
   ],
   "metadata": {
    "collapsed": false,
    "pycharm": {
     "name": "#%%\n"
    }
   }
  },
  {
   "cell_type": "code",
   "execution_count": 54,
   "outputs": [],
   "source": [
    "census_2 = census[[\"code_parlimen\", \"ethnicity_proportion_bumi\", \"ethnicity_proportion_chinese\", \"ethnicity_proportion_indian\", \"ethnicity_proportion_other\"]]"
   ],
   "metadata": {
    "collapsed": false,
    "pycharm": {
     "name": "#%%\n"
    }
   }
  },
  {
   "cell_type": "code",
   "execution_count": 55,
   "outputs": [],
   "source": [
    "seats_2 = seats[['PARLIAMENTARY CODE', 'WINNING PARTY', 'WINNING MAJORITY', 'TOTAL VALID VOTES']]"
   ],
   "metadata": {
    "collapsed": false,
    "pycharm": {
     "name": "#%%\n"
    }
   }
  },
  {
   "cell_type": "code",
   "execution_count": 56,
   "outputs": [],
   "source": [
    "seats_2 = seats_2.rename(columns={\"PARLIAMENTARY CODE\": \"code_parlimen\"})"
   ],
   "metadata": {
    "collapsed": false,
    "pycharm": {
     "name": "#%%\n"
    }
   }
  },
  {
   "cell_type": "code",
   "execution_count": 57,
   "outputs": [],
   "source": [
    "seats_2['Vote Share'] = seats_2['WINNING MAJORITY']*100 / seats_2['TOTAL VALID VOTES']"
   ],
   "metadata": {
    "collapsed": false,
    "pycharm": {
     "name": "#%%\n"
    }
   }
  },
  {
   "cell_type": "code",
   "execution_count": 58,
   "outputs": [],
   "source": [
    "seats_2['Winner'] = seats_2['WINNING PARTY'].str[:2]"
   ],
   "metadata": {
    "collapsed": false,
    "pycharm": {
     "name": "#%%\n"
    }
   }
  },
  {
   "cell_type": "code",
   "execution_count": 59,
   "outputs": [
    {
     "data": {
      "text/plain": "    code_parlimen WINNING PARTY  WINNING MAJORITY  TOTAL VALID VOTES  \\\n0           P.001      PN - PAS             12514              45288   \n1           P.002     PN - PPBM              9192              56200   \n2           P.003   PN - DIRECT             23216              46789   \n3           P.004     PN - PPBM             13518              47480   \n4           P.005      PN - PAS             20456              52207   \n..            ...           ...               ...                ...   \n217        P. 218     GPS - PBB             11745              33916   \n218        P. 219      PH - PKR              6159              78148   \n219        P. 220     GPS - PDP              7339              29783   \n220        P. 221     GPS - PBB              9998              19796   \n221        P. 222     GPS - PBB              5677              18208   \n\n     Vote Share Winner  \n0     27.632044     PN  \n1     16.355872     PN  \n2     49.618500     PN  \n3     28.470935     PN  \n4     39.182485     PN  \n..          ...    ...  \n217   34.629673     GP  \n218    7.881200     PH  \n219   24.641574     GP  \n220   50.505153     GP  \n221   31.178603     GP  \n\n[222 rows x 6 columns]",
      "text/html": "<div>\n<style scoped>\n    .dataframe tbody tr th:only-of-type {\n        vertical-align: middle;\n    }\n\n    .dataframe tbody tr th {\n        vertical-align: top;\n    }\n\n    .dataframe thead th {\n        text-align: right;\n    }\n</style>\n<table border=\"1\" class=\"dataframe\">\n  <thead>\n    <tr style=\"text-align: right;\">\n      <th></th>\n      <th>code_parlimen</th>\n      <th>WINNING PARTY</th>\n      <th>WINNING MAJORITY</th>\n      <th>TOTAL VALID VOTES</th>\n      <th>Vote Share</th>\n      <th>Winner</th>\n    </tr>\n  </thead>\n  <tbody>\n    <tr>\n      <th>0</th>\n      <td>P.001</td>\n      <td>PN - PAS</td>\n      <td>12514</td>\n      <td>45288</td>\n      <td>27.632044</td>\n      <td>PN</td>\n    </tr>\n    <tr>\n      <th>1</th>\n      <td>P.002</td>\n      <td>PN - PPBM</td>\n      <td>9192</td>\n      <td>56200</td>\n      <td>16.355872</td>\n      <td>PN</td>\n    </tr>\n    <tr>\n      <th>2</th>\n      <td>P.003</td>\n      <td>PN - DIRECT</td>\n      <td>23216</td>\n      <td>46789</td>\n      <td>49.618500</td>\n      <td>PN</td>\n    </tr>\n    <tr>\n      <th>3</th>\n      <td>P.004</td>\n      <td>PN - PPBM</td>\n      <td>13518</td>\n      <td>47480</td>\n      <td>28.470935</td>\n      <td>PN</td>\n    </tr>\n    <tr>\n      <th>4</th>\n      <td>P.005</td>\n      <td>PN - PAS</td>\n      <td>20456</td>\n      <td>52207</td>\n      <td>39.182485</td>\n      <td>PN</td>\n    </tr>\n    <tr>\n      <th>...</th>\n      <td>...</td>\n      <td>...</td>\n      <td>...</td>\n      <td>...</td>\n      <td>...</td>\n      <td>...</td>\n    </tr>\n    <tr>\n      <th>217</th>\n      <td>P. 218</td>\n      <td>GPS - PBB</td>\n      <td>11745</td>\n      <td>33916</td>\n      <td>34.629673</td>\n      <td>GP</td>\n    </tr>\n    <tr>\n      <th>218</th>\n      <td>P. 219</td>\n      <td>PH - PKR</td>\n      <td>6159</td>\n      <td>78148</td>\n      <td>7.881200</td>\n      <td>PH</td>\n    </tr>\n    <tr>\n      <th>219</th>\n      <td>P. 220</td>\n      <td>GPS - PDP</td>\n      <td>7339</td>\n      <td>29783</td>\n      <td>24.641574</td>\n      <td>GP</td>\n    </tr>\n    <tr>\n      <th>220</th>\n      <td>P. 221</td>\n      <td>GPS - PBB</td>\n      <td>9998</td>\n      <td>19796</td>\n      <td>50.505153</td>\n      <td>GP</td>\n    </tr>\n    <tr>\n      <th>221</th>\n      <td>P. 222</td>\n      <td>GPS - PBB</td>\n      <td>5677</td>\n      <td>18208</td>\n      <td>31.178603</td>\n      <td>GP</td>\n    </tr>\n  </tbody>\n</table>\n<p>222 rows × 6 columns</p>\n</div>"
     },
     "execution_count": 59,
     "metadata": {},
     "output_type": "execute_result"
    }
   ],
   "source": [
    "seats_2"
   ],
   "metadata": {
    "collapsed": false,
    "pycharm": {
     "name": "#%%\n"
    }
   }
  },
  {
   "cell_type": "code",
   "execution_count": 60,
   "outputs": [],
   "source": [
    "census_2 = census_2.set_index('code_parlimen')"
   ],
   "metadata": {
    "collapsed": false,
    "pycharm": {
     "name": "#%%\n"
    }
   }
  },
  {
   "cell_type": "code",
   "execution_count": 61,
   "outputs": [],
   "source": [
    "seats_2 = seats_2.set_index('code_parlimen')"
   ],
   "metadata": {
    "collapsed": false,
    "pycharm": {
     "name": "#%%\n"
    }
   }
  },
  {
   "cell_type": "code",
   "execution_count": 62,
   "outputs": [],
   "source": [
    "df = census_2.join(seats_2)"
   ],
   "metadata": {
    "collapsed": false,
    "pycharm": {
     "name": "#%%\n"
    }
   }
  },
  {
   "cell_type": "code",
   "execution_count": 63,
   "outputs": [],
   "source": [
    "df = df[['ethnicity_proportion_bumi', 'Winner', 'Vote Share']]"
   ],
   "metadata": {
    "collapsed": false,
    "pycharm": {
     "name": "#%%\n"
    }
   }
  },
  {
   "cell_type": "code",
   "execution_count": 67,
   "outputs": [],
   "source": [
    "df = df.dropna()"
   ],
   "metadata": {
    "collapsed": false,
    "pycharm": {
     "name": "#%%\n"
    }
   }
  },
  {
   "cell_type": "code",
   "execution_count": 68,
   "outputs": [],
   "source": [
    "df.to_csv(\"Vote_Share.csv\")"
   ],
   "metadata": {
    "collapsed": false,
    "pycharm": {
     "name": "#%%\n"
    }
   }
  },
  {
   "cell_type": "code",
   "execution_count": null,
   "outputs": [],
   "source": [],
   "metadata": {
    "collapsed": false,
    "pycharm": {
     "name": "#%%\n"
    }
   }
  }
 ],
 "metadata": {
  "kernelspec": {
   "display_name": "base",
   "language": "python",
   "name": "python3"
  },
  "language_info": {
   "codemirror_mode": {
    "name": "ipython",
    "version": 2
   },
   "file_extension": ".py",
   "mimetype": "text/x-python",
   "name": "python",
   "nbconvert_exporter": "python",
   "pygments_lexer": "ipython2",
   "version": "3.9.7 (default, Sep 16 2021, 16:59:28) [MSC v.1916 64 bit (AMD64)]"
  },
  "vscode": {
   "interpreter": {
    "hash": "2043299c89c8cd0b4d1a6f5cf4529bd58e6a4e0fe3181a25e0d328c821cdc5c5"
   }
  }
 },
 "nbformat": 4,
 "nbformat_minor": 0
}